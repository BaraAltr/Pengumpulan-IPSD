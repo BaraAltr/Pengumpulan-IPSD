{
  "nbformat": 4,
  "nbformat_minor": 0,
  "metadata": {
    "colab": {
      "provenance": []
    },
    "kernelspec": {
      "name": "python3",
      "display_name": "Python 3"
    },
    "language_info": {
      "name": "python"
    }
  },
  "cells": [
    {
      "cell_type": "markdown",
      "source": [
        "Buatlah program yang dapat menghasilkan pola berbentuk angka seperti di bawah ini, dengan syarat angka yang ditampilkan adalah hasil dari penjumlahan bilangan prima sebelumnya:"
      ],
      "metadata": {
        "id": "rI9bw5OWanPA"
      }
    },
    {
      "cell_type": "code",
      "source": [
        "def is_prime(num):\n",
        "    \"\"\"Fungsi untuk memeriksa apakah sebuah angka adalah bilangan prima\"\"\"\n",
        "    if num < 2:\n",
        "        return False\n",
        "    for i in range(2, int(num**0.5) + 1):\n",
        "        if num % i == 0:\n",
        "            return False\n",
        "    return True\n",
        "\n",
        "def generate_primes(limit):\n",
        "    \"\"\"Fungsi untuk menghasilkan bilangan prima sebanyak limit\"\"\"\n",
        "    primes = []\n",
        "    num = 2\n",
        "    while len(primes) < limit:\n",
        "        if is_prime(num):\n",
        "            primes.append(num)\n",
        "        num += 1\n",
        "    return primes\n",
        "\n",
        "def generate_pattern(rows):\n",
        "    \"\"\"Fungsi untuk menghasilkan pola sesuai jumlah baris yang diinginkan\"\"\"\n",
        "    total_numbers = sum(range(1, rows + 1))\n",
        "    primes = generate_primes(total_numbers)\n",
        "\n",
        "    index = 0\n",
        "    for row in range(1, rows + 1):\n",
        "        for _ in range(row):\n",
        "            print(primes[index], end=\" \")\n",
        "            index += 1\n",
        "        print()\n",
        "\n",
        "rows = 5\n",
        "generate_pattern(rows)\n"
      ],
      "metadata": {
        "colab": {
          "base_uri": "https://localhost:8080/"
        },
        "id": "emIE4Xa0bv4Q",
        "outputId": "95e33547-c69b-4bca-b43c-9436f96640a9"
      },
      "execution_count": null,
      "outputs": [
        {
          "output_type": "stream",
          "name": "stdout",
          "text": [
            "2 \n",
            "3 5 \n",
            "7 11 13 \n",
            "17 19 23 29 \n",
            "31 37 41 43 47 \n"
          ]
        }
      ]
    },
    {
      "cell_type": "markdown",
      "source": [
        "Buatlah sebuah fungsi yang menerima dua input berupa list angka. Fungsi ini harus mengembalikan sebuah list baru yang berisi elemen dari dua list input yang memiliki indeks ganjil. List baru tersebut juga harus diurutkan secara menurun berdasarkan nilai elemen."
      ],
      "metadata": {
        "id": "XzYEOETwcrNA"
      }
    },
    {
      "cell_type": "code",
      "source": [
        "def gabung_urut_angka_ganjil(list1, list2):\n",
        "\n",
        "    list_ganjil1 = [list1[i] for i in range(len(list1)) if i % 2 != 0]\n",
        "    list_ganjil2 = [list2[i] for i in range(len(list2)) if i % 2 != 0]\n",
        "\n",
        "\n",
        "    list_gabungan = list_ganjil1 + list_ganjil2\n",
        "\n",
        "\n",
        "    list_gabungan.sort(reverse=True)\n",
        "\n",
        "    return list_gabungan\n",
        "\n",
        "\n",
        "list1 = [10, 20, 30, 40, 50]\n",
        "list2 = [15, 25, 35, 45, 55]\n",
        "\n",
        "hasil = gabung_urut_angka_ganjil(list1, list2)\n",
        "print(hasil)\n"
      ],
      "metadata": {
        "colab": {
          "base_uri": "https://localhost:8080/"
        },
        "id": "TrzyuGwIcRTd",
        "outputId": "238c9787-000d-42c4-82dd-776c0654e723"
      },
      "execution_count": null,
      "outputs": [
        {
          "output_type": "stream",
          "name": "stdout",
          "text": [
            "[45, 40, 25, 20]\n"
          ]
        }
      ]
    },
    {
      "cell_type": "markdown",
      "source": [
        "Buat sebuah program untuk mensimulasikan transaksi ATM. Program harus:\n",
        "1. Meminta pengguna memasukkan PIN (dibatasi 3 kali percobaan).\n",
        "2. Setelah PIN benar, meminta jumlah penarikan.\n",
        "3. Jika saldo kurang dari jumlah yang ditarik, munculkan pesan kesalahan.\n",
        "4. Jika penarikan berhasil, tampilkan saldo akhir.\n"
      ],
      "metadata": {
        "id": "ZLOYlwocc7lQ"
      }
    },
    {
      "cell_type": "code",
      "source": [
        "saldo = 1000000\n",
        "\n",
        "# PIN yang benar\n",
        "PIN_BENAR = \"SainsData\"\n",
        "\n",
        "max_attempts = 3\n",
        "\n",
        "def cek_pin():\n",
        "    attempts = 0\n",
        "    while attempts < max_attempts:\n",
        "        pin = input(\"Masukkan PIN Anda: \")\n",
        "        if pin == PIN_BENAR:\n",
        "            return True\n",
        "        else:\n",
        "            attempts += 1\n",
        "            print(f\"PIN salah. Anda memiliki {max_attempts - attempts} percobaan lagi.\")\n",
        "    return False\n",
        "\n",
        "def penarikan(saldo):\n",
        "    try:\n",
        "        jumlah_tarik = int(input(\"Masukkan jumlah yang ingin ditarik: \"))\n",
        "\n",
        "        if jumlah_tarik > saldo:\n",
        "            print(\"Transaksi gagal! Saldo tidak mencukupi.\")\n",
        "        elif jumlah_tarik <= 0:\n",
        "            print(\"Jumlah yang ditarik harus lebih dari nol.\")\n",
        "        else:\n",
        "            saldo -= jumlah_tarik\n",
        "            print(f\"Transaksi berhasil! Saldo Anda sekarang: Rp{saldo}\")\n",
        "    except ValueError:\n",
        "        print(\"Masukkan jumlah penarikan yang valid.\")\n",
        "\n",
        "    return saldo\n",
        "\n",
        "\n",
        "def atm_simulasi():\n",
        "    if cek_pin():\n",
        "        global saldo\n",
        "        saldo = penarikan(saldo)\n",
        "    else:\n",
        "        print(\"Anda telah melebihi batas percobaan PIN. Kartu Anda terblokir.\")\n",
        "\n",
        "\n",
        "atm_simulasi()\n"
      ],
      "metadata": {
        "colab": {
          "base_uri": "https://localhost:8080/"
        },
        "id": "n8pegB4udAmw",
        "outputId": "0adc13be-304c-4062-91d7-895eb4d30822"
      },
      "execution_count": null,
      "outputs": [
        {
          "output_type": "stream",
          "name": "stdout",
          "text": [
            "Masukkan PIN Anda: SainsData\n",
            "Masukkan jumlah yang ingin ditarik: 10000\n",
            "Transaksi berhasil! Saldo Anda sekarang: Rp990000\n"
          ]
        }
      ]
    },
    {
      "cell_type": "markdown",
      "source": [
        "Anda diberikan file CSV berisi data nilai ujian mahasiswa. Tugas Anda adalah menulis sebuah program yang:\n",
        "1. Membaca file CSV dan menyimpan datanya ke dalam dictionary.\n",
        "2. Menghitung rata-rata nilai tiap mahasiswa.\n",
        "3. Menampilkan mahasiswa dengan nilai tertinggi dan terendah.\n"
      ],
      "metadata": {
        "id": "5x6IJZH2dVr4"
      }
    },
    {
      "cell_type": "code",
      "source": [
        "import pandas as pd\n",
        "\n",
        "df = pd.read_csv('/content/siswa_nilai (1).csv')\n",
        "\n",
        "df\n"
      ],
      "metadata": {
        "colab": {
          "base_uri": "https://localhost:8080/",
          "height": 423
        },
        "id": "pdvJZvu-ddeP",
        "outputId": "0a2bc21b-0d7e-4995-fb66-a6edf05fd393"
      },
      "execution_count": null,
      "outputs": [
        {
          "output_type": "execute_result",
          "data": {
            "text/plain": [
              "   Nama Siswa  Nilai\n",
              "0     Siswa_1     59\n",
              "1     Siswa_2     79\n",
              "2     Siswa_3     61\n",
              "3     Siswa_4     74\n",
              "4     Siswa_5     50\n",
              "..        ...    ...\n",
              "95   Siswa_96     59\n",
              "96   Siswa_97     57\n",
              "97   Siswa_98     70\n",
              "98   Siswa_99     66\n",
              "99  Siswa_100     78\n",
              "\n",
              "[100 rows x 2 columns]"
            ],
            "text/html": [
              "\n",
              "  <div id=\"df-3cc4305e-6827-4f2e-a975-fe99842d3406\" class=\"colab-df-container\">\n",
              "    <div>\n",
              "<style scoped>\n",
              "    .dataframe tbody tr th:only-of-type {\n",
              "        vertical-align: middle;\n",
              "    }\n",
              "\n",
              "    .dataframe tbody tr th {\n",
              "        vertical-align: top;\n",
              "    }\n",
              "\n",
              "    .dataframe thead th {\n",
              "        text-align: right;\n",
              "    }\n",
              "</style>\n",
              "<table border=\"1\" class=\"dataframe\">\n",
              "  <thead>\n",
              "    <tr style=\"text-align: right;\">\n",
              "      <th></th>\n",
              "      <th>Nama Siswa</th>\n",
              "      <th>Nilai</th>\n",
              "    </tr>\n",
              "  </thead>\n",
              "  <tbody>\n",
              "    <tr>\n",
              "      <th>0</th>\n",
              "      <td>Siswa_1</td>\n",
              "      <td>59</td>\n",
              "    </tr>\n",
              "    <tr>\n",
              "      <th>1</th>\n",
              "      <td>Siswa_2</td>\n",
              "      <td>79</td>\n",
              "    </tr>\n",
              "    <tr>\n",
              "      <th>2</th>\n",
              "      <td>Siswa_3</td>\n",
              "      <td>61</td>\n",
              "    </tr>\n",
              "    <tr>\n",
              "      <th>3</th>\n",
              "      <td>Siswa_4</td>\n",
              "      <td>74</td>\n",
              "    </tr>\n",
              "    <tr>\n",
              "      <th>4</th>\n",
              "      <td>Siswa_5</td>\n",
              "      <td>50</td>\n",
              "    </tr>\n",
              "    <tr>\n",
              "      <th>...</th>\n",
              "      <td>...</td>\n",
              "      <td>...</td>\n",
              "    </tr>\n",
              "    <tr>\n",
              "      <th>95</th>\n",
              "      <td>Siswa_96</td>\n",
              "      <td>59</td>\n",
              "    </tr>\n",
              "    <tr>\n",
              "      <th>96</th>\n",
              "      <td>Siswa_97</td>\n",
              "      <td>57</td>\n",
              "    </tr>\n",
              "    <tr>\n",
              "      <th>97</th>\n",
              "      <td>Siswa_98</td>\n",
              "      <td>70</td>\n",
              "    </tr>\n",
              "    <tr>\n",
              "      <th>98</th>\n",
              "      <td>Siswa_99</td>\n",
              "      <td>66</td>\n",
              "    </tr>\n",
              "    <tr>\n",
              "      <th>99</th>\n",
              "      <td>Siswa_100</td>\n",
              "      <td>78</td>\n",
              "    </tr>\n",
              "  </tbody>\n",
              "</table>\n",
              "<p>100 rows × 2 columns</p>\n",
              "</div>\n",
              "    <div class=\"colab-df-buttons\">\n",
              "\n",
              "  <div class=\"colab-df-container\">\n",
              "    <button class=\"colab-df-convert\" onclick=\"convertToInteractive('df-3cc4305e-6827-4f2e-a975-fe99842d3406')\"\n",
              "            title=\"Convert this dataframe to an interactive table.\"\n",
              "            style=\"display:none;\">\n",
              "\n",
              "  <svg xmlns=\"http://www.w3.org/2000/svg\" height=\"24px\" viewBox=\"0 -960 960 960\">\n",
              "    <path d=\"M120-120v-720h720v720H120Zm60-500h600v-160H180v160Zm220 220h160v-160H400v160Zm0 220h160v-160H400v160ZM180-400h160v-160H180v160Zm440 0h160v-160H620v160ZM180-180h160v-160H180v160Zm440 0h160v-160H620v160Z\"/>\n",
              "  </svg>\n",
              "    </button>\n",
              "\n",
              "  <style>\n",
              "    .colab-df-container {\n",
              "      display:flex;\n",
              "      gap: 12px;\n",
              "    }\n",
              "\n",
              "    .colab-df-convert {\n",
              "      background-color: #E8F0FE;\n",
              "      border: none;\n",
              "      border-radius: 50%;\n",
              "      cursor: pointer;\n",
              "      display: none;\n",
              "      fill: #1967D2;\n",
              "      height: 32px;\n",
              "      padding: 0 0 0 0;\n",
              "      width: 32px;\n",
              "    }\n",
              "\n",
              "    .colab-df-convert:hover {\n",
              "      background-color: #E2EBFA;\n",
              "      box-shadow: 0px 1px 2px rgba(60, 64, 67, 0.3), 0px 1px 3px 1px rgba(60, 64, 67, 0.15);\n",
              "      fill: #174EA6;\n",
              "    }\n",
              "\n",
              "    .colab-df-buttons div {\n",
              "      margin-bottom: 4px;\n",
              "    }\n",
              "\n",
              "    [theme=dark] .colab-df-convert {\n",
              "      background-color: #3B4455;\n",
              "      fill: #D2E3FC;\n",
              "    }\n",
              "\n",
              "    [theme=dark] .colab-df-convert:hover {\n",
              "      background-color: #434B5C;\n",
              "      box-shadow: 0px 1px 3px 1px rgba(0, 0, 0, 0.15);\n",
              "      filter: drop-shadow(0px 1px 2px rgba(0, 0, 0, 0.3));\n",
              "      fill: #FFFFFF;\n",
              "    }\n",
              "  </style>\n",
              "\n",
              "    <script>\n",
              "      const buttonEl =\n",
              "        document.querySelector('#df-3cc4305e-6827-4f2e-a975-fe99842d3406 button.colab-df-convert');\n",
              "      buttonEl.style.display =\n",
              "        google.colab.kernel.accessAllowed ? 'block' : 'none';\n",
              "\n",
              "      async function convertToInteractive(key) {\n",
              "        const element = document.querySelector('#df-3cc4305e-6827-4f2e-a975-fe99842d3406');\n",
              "        const dataTable =\n",
              "          await google.colab.kernel.invokeFunction('convertToInteractive',\n",
              "                                                    [key], {});\n",
              "        if (!dataTable) return;\n",
              "\n",
              "        const docLinkHtml = 'Like what you see? Visit the ' +\n",
              "          '<a target=\"_blank\" href=https://colab.research.google.com/notebooks/data_table.ipynb>data table notebook</a>'\n",
              "          + ' to learn more about interactive tables.';\n",
              "        element.innerHTML = '';\n",
              "        dataTable['output_type'] = 'display_data';\n",
              "        await google.colab.output.renderOutput(dataTable, element);\n",
              "        const docLink = document.createElement('div');\n",
              "        docLink.innerHTML = docLinkHtml;\n",
              "        element.appendChild(docLink);\n",
              "      }\n",
              "    </script>\n",
              "  </div>\n",
              "\n",
              "\n",
              "<div id=\"df-3ca78118-60ac-4840-be1d-1c86d153af27\">\n",
              "  <button class=\"colab-df-quickchart\" onclick=\"quickchart('df-3ca78118-60ac-4840-be1d-1c86d153af27')\"\n",
              "            title=\"Suggest charts\"\n",
              "            style=\"display:none;\">\n",
              "\n",
              "<svg xmlns=\"http://www.w3.org/2000/svg\" height=\"24px\"viewBox=\"0 0 24 24\"\n",
              "     width=\"24px\">\n",
              "    <g>\n",
              "        <path d=\"M19 3H5c-1.1 0-2 .9-2 2v14c0 1.1.9 2 2 2h14c1.1 0 2-.9 2-2V5c0-1.1-.9-2-2-2zM9 17H7v-7h2v7zm4 0h-2V7h2v10zm4 0h-2v-4h2v4z\"/>\n",
              "    </g>\n",
              "</svg>\n",
              "  </button>\n",
              "\n",
              "<style>\n",
              "  .colab-df-quickchart {\n",
              "      --bg-color: #E8F0FE;\n",
              "      --fill-color: #1967D2;\n",
              "      --hover-bg-color: #E2EBFA;\n",
              "      --hover-fill-color: #174EA6;\n",
              "      --disabled-fill-color: #AAA;\n",
              "      --disabled-bg-color: #DDD;\n",
              "  }\n",
              "\n",
              "  [theme=dark] .colab-df-quickchart {\n",
              "      --bg-color: #3B4455;\n",
              "      --fill-color: #D2E3FC;\n",
              "      --hover-bg-color: #434B5C;\n",
              "      --hover-fill-color: #FFFFFF;\n",
              "      --disabled-bg-color: #3B4455;\n",
              "      --disabled-fill-color: #666;\n",
              "  }\n",
              "\n",
              "  .colab-df-quickchart {\n",
              "    background-color: var(--bg-color);\n",
              "    border: none;\n",
              "    border-radius: 50%;\n",
              "    cursor: pointer;\n",
              "    display: none;\n",
              "    fill: var(--fill-color);\n",
              "    height: 32px;\n",
              "    padding: 0;\n",
              "    width: 32px;\n",
              "  }\n",
              "\n",
              "  .colab-df-quickchart:hover {\n",
              "    background-color: var(--hover-bg-color);\n",
              "    box-shadow: 0 1px 2px rgba(60, 64, 67, 0.3), 0 1px 3px 1px rgba(60, 64, 67, 0.15);\n",
              "    fill: var(--button-hover-fill-color);\n",
              "  }\n",
              "\n",
              "  .colab-df-quickchart-complete:disabled,\n",
              "  .colab-df-quickchart-complete:disabled:hover {\n",
              "    background-color: var(--disabled-bg-color);\n",
              "    fill: var(--disabled-fill-color);\n",
              "    box-shadow: none;\n",
              "  }\n",
              "\n",
              "  .colab-df-spinner {\n",
              "    border: 2px solid var(--fill-color);\n",
              "    border-color: transparent;\n",
              "    border-bottom-color: var(--fill-color);\n",
              "    animation:\n",
              "      spin 1s steps(1) infinite;\n",
              "  }\n",
              "\n",
              "  @keyframes spin {\n",
              "    0% {\n",
              "      border-color: transparent;\n",
              "      border-bottom-color: var(--fill-color);\n",
              "      border-left-color: var(--fill-color);\n",
              "    }\n",
              "    20% {\n",
              "      border-color: transparent;\n",
              "      border-left-color: var(--fill-color);\n",
              "      border-top-color: var(--fill-color);\n",
              "    }\n",
              "    30% {\n",
              "      border-color: transparent;\n",
              "      border-left-color: var(--fill-color);\n",
              "      border-top-color: var(--fill-color);\n",
              "      border-right-color: var(--fill-color);\n",
              "    }\n",
              "    40% {\n",
              "      border-color: transparent;\n",
              "      border-right-color: var(--fill-color);\n",
              "      border-top-color: var(--fill-color);\n",
              "    }\n",
              "    60% {\n",
              "      border-color: transparent;\n",
              "      border-right-color: var(--fill-color);\n",
              "    }\n",
              "    80% {\n",
              "      border-color: transparent;\n",
              "      border-right-color: var(--fill-color);\n",
              "      border-bottom-color: var(--fill-color);\n",
              "    }\n",
              "    90% {\n",
              "      border-color: transparent;\n",
              "      border-bottom-color: var(--fill-color);\n",
              "    }\n",
              "  }\n",
              "</style>\n",
              "\n",
              "  <script>\n",
              "    async function quickchart(key) {\n",
              "      const quickchartButtonEl =\n",
              "        document.querySelector('#' + key + ' button');\n",
              "      quickchartButtonEl.disabled = true;  // To prevent multiple clicks.\n",
              "      quickchartButtonEl.classList.add('colab-df-spinner');\n",
              "      try {\n",
              "        const charts = await google.colab.kernel.invokeFunction(\n",
              "            'suggestCharts', [key], {});\n",
              "      } catch (error) {\n",
              "        console.error('Error during call to suggestCharts:', error);\n",
              "      }\n",
              "      quickchartButtonEl.classList.remove('colab-df-spinner');\n",
              "      quickchartButtonEl.classList.add('colab-df-quickchart-complete');\n",
              "    }\n",
              "    (() => {\n",
              "      let quickchartButtonEl =\n",
              "        document.querySelector('#df-3ca78118-60ac-4840-be1d-1c86d153af27 button');\n",
              "      quickchartButtonEl.style.display =\n",
              "        google.colab.kernel.accessAllowed ? 'block' : 'none';\n",
              "    })();\n",
              "  </script>\n",
              "</div>\n",
              "\n",
              "  <div id=\"id_4e2a70d4-6320-40d5-8f85-a98cd42ae537\">\n",
              "    <style>\n",
              "      .colab-df-generate {\n",
              "        background-color: #E8F0FE;\n",
              "        border: none;\n",
              "        border-radius: 50%;\n",
              "        cursor: pointer;\n",
              "        display: none;\n",
              "        fill: #1967D2;\n",
              "        height: 32px;\n",
              "        padding: 0 0 0 0;\n",
              "        width: 32px;\n",
              "      }\n",
              "\n",
              "      .colab-df-generate:hover {\n",
              "        background-color: #E2EBFA;\n",
              "        box-shadow: 0px 1px 2px rgba(60, 64, 67, 0.3), 0px 1px 3px 1px rgba(60, 64, 67, 0.15);\n",
              "        fill: #174EA6;\n",
              "      }\n",
              "\n",
              "      [theme=dark] .colab-df-generate {\n",
              "        background-color: #3B4455;\n",
              "        fill: #D2E3FC;\n",
              "      }\n",
              "\n",
              "      [theme=dark] .colab-df-generate:hover {\n",
              "        background-color: #434B5C;\n",
              "        box-shadow: 0px 1px 3px 1px rgba(0, 0, 0, 0.15);\n",
              "        filter: drop-shadow(0px 1px 2px rgba(0, 0, 0, 0.3));\n",
              "        fill: #FFFFFF;\n",
              "      }\n",
              "    </style>\n",
              "    <button class=\"colab-df-generate\" onclick=\"generateWithVariable('df')\"\n",
              "            title=\"Generate code using this dataframe.\"\n",
              "            style=\"display:none;\">\n",
              "\n",
              "  <svg xmlns=\"http://www.w3.org/2000/svg\" height=\"24px\"viewBox=\"0 0 24 24\"\n",
              "       width=\"24px\">\n",
              "    <path d=\"M7,19H8.4L18.45,9,17,7.55,7,17.6ZM5,21V16.75L18.45,3.32a2,2,0,0,1,2.83,0l1.4,1.43a1.91,1.91,0,0,1,.58,1.4,1.91,1.91,0,0,1-.58,1.4L9.25,21ZM18.45,9,17,7.55Zm-12,3A5.31,5.31,0,0,0,4.9,8.1,5.31,5.31,0,0,0,1,6.5,5.31,5.31,0,0,0,4.9,4.9,5.31,5.31,0,0,0,6.5,1,5.31,5.31,0,0,0,8.1,4.9,5.31,5.31,0,0,0,12,6.5,5.46,5.46,0,0,0,6.5,12Z\"/>\n",
              "  </svg>\n",
              "    </button>\n",
              "    <script>\n",
              "      (() => {\n",
              "      const buttonEl =\n",
              "        document.querySelector('#id_4e2a70d4-6320-40d5-8f85-a98cd42ae537 button.colab-df-generate');\n",
              "      buttonEl.style.display =\n",
              "        google.colab.kernel.accessAllowed ? 'block' : 'none';\n",
              "\n",
              "      buttonEl.onclick = () => {\n",
              "        google.colab.notebook.generateWithVariable('df');\n",
              "      }\n",
              "      })();\n",
              "    </script>\n",
              "  </div>\n",
              "\n",
              "    </div>\n",
              "  </div>\n"
            ],
            "application/vnd.google.colaboratory.intrinsic+json": {
              "type": "dataframe",
              "variable_name": "df",
              "summary": "{\n  \"name\": \"df\",\n  \"rows\": 100,\n  \"fields\": [\n    {\n      \"column\": \"Nama Siswa\",\n      \"properties\": {\n        \"dtype\": \"string\",\n        \"num_unique_values\": 100,\n        \"samples\": [\n          \"Siswa_84\",\n          \"Siswa_54\",\n          \"Siswa_71\"\n        ],\n        \"semantic_type\": \"\",\n        \"description\": \"\"\n      }\n    },\n    {\n      \"column\": \"Nilai\",\n      \"properties\": {\n        \"dtype\": \"number\",\n        \"std\": 15,\n        \"min\": 50,\n        \"max\": 100,\n        \"num_unique_values\": 43,\n        \"samples\": [\n          98,\n          68,\n          67\n        ],\n        \"semantic_type\": \"\",\n        \"description\": \"\"\n      }\n    }\n  ]\n}"
            }
          },
          "metadata": {},
          "execution_count": 12
        }
      ]
    },
    {
      "cell_type": "code",
      "source": [
        "rata_rata = df['Nilai'].mean()\n",
        "print(f\"Rata-rata: {rata_rata}\")"
      ],
      "metadata": {
        "colab": {
          "base_uri": "https://localhost:8080/"
        },
        "id": "Yu7xtyIQebKd",
        "outputId": "e79c483f-9990-4fcf-f99d-f01693a057ad"
      },
      "execution_count": null,
      "outputs": [
        {
          "output_type": "stream",
          "name": "stdout",
          "text": [
            "Rata-rata: 72.0\n"
          ]
        }
      ]
    },
    {
      "cell_type": "markdown",
      "source": [
        "Buatlah permainan sederhana menggunakan Python, di mana komputer akan memilih sebuah angka secara acak antara 1 hingga 100, dan pengguna harus menebak angka tersebut. Setiap tebakan yang salah akan memberikan petunjuk apakah angka yang ditebak lebih besar atau lebih kecil dari angka sebenarnya. Batasi jumlah percobaan menjadi 5 kali. Setelah permainan selesai, tampilkan apakah pemain menang atau kalah."
      ],
      "metadata": {
        "id": "53b30AMhedsh"
      }
    },
    {
      "cell_type": "code",
      "source": [
        "import random\n",
        "\n",
        "def tebak_angka():\n",
        "    angka_rahasia = random.randint(1, 100)\n",
        "    percobaan = 5\n",
        "\n",
        "    print(\"Selamat datang di permainan tebak angka!\")\n",
        "    print(\"Saya telah memilih angka antara 1 hingga 100.\")\n",
        "    print(\"Anda memiliki 5 percobaan untuk menebak angka tersebut.\")\n",
        "\n",
        "    for i in range(percobaan):\n",
        "        tebakan = int(input(f\"Tebakan ke-{i + 1}: \"))\n",
        "\n",
        "        if tebakan < angka_rahasia:\n",
        "            print(\"Tebakan Anda terlalu rendah.\")\n",
        "        elif tebakan > angka_rahasia:\n",
        "            print(\"Tebakan Anda terlalu tinggi.\")\n",
        "        else:\n",
        "            print(f\"Selamat! Anda menebak angka {angka_rahasia} dengan benar!\")\n",
        "            break\n",
        "    else:\n",
        "        print(f\"Maaf, Anda telah kehabisan percobaan. Angka yang benar adalah {angka_rahasia}.\")\n",
        "\n",
        "tebak_angka()\n"
      ],
      "metadata": {
        "colab": {
          "base_uri": "https://localhost:8080/"
        },
        "id": "MbE76VIfejTq",
        "outputId": "99c79c9b-e995-4d3e-e786-ea3dd014d9d0"
      },
      "execution_count": null,
      "outputs": [
        {
          "output_type": "stream",
          "name": "stdout",
          "text": [
            "Selamat datang di permainan tebak angka!\n",
            "Saya telah memilih angka antara 1 hingga 100.\n",
            "Anda memiliki 5 percobaan untuk menebak angka tersebut.\n",
            "Tebakan ke-1: 10\n",
            "Tebakan Anda terlalu tinggi.\n",
            "Tebakan ke-2: 5\n",
            "Selamat! Anda menebak angka 5 dengan benar!\n"
          ]
        }
      ]
    },
    {
      "cell_type": "markdown",
      "source": [
        "Buat fungsi rekursif yang menerima input bilangan bulat `n` dan menghasilkan urutan bilangan seperti berikut ini:\n",
        "```\n",
        "Input: n = 4\n",
        "Output: 1, 1, 2, 6, 24\n",
        "```\n",
        "Fungsi ini harus menggunakan konsep rekursi untuk menghitung faktorial setiap angka hingga `n`.\n"
      ],
      "metadata": {
        "id": "zMa58bA3evaI"
      }
    },
    {
      "cell_type": "code",
      "source": [
        "def faktorial(n):\n",
        "    \"\"\"Fungsi rekursif untuk menghitung faktorial dari n.\"\"\"\n",
        "    if n == 0 or n == 1:\n",
        "        return 1\n",
        "    else:\n",
        "        return n * faktorial(n - 1)\n",
        "\n",
        "def urutan_faktorial(n):\n",
        "    \"\"\"Menghasilkan urutan faktorial dari 1 hingga n.\"\"\"\n",
        "    hasil = []\n",
        "    for i in range(1, n + 1):\n",
        "        hasil.append(faktorial(i))\n",
        "    return hasil\n",
        "\n",
        "n = int(input(\"Masukkan bilangan bulat n: \"))\n",
        "output = urutan_faktorial(n)\n",
        "print(f\"Output: {', '.join(map(str, output))}\")\n"
      ],
      "metadata": {
        "colab": {
          "base_uri": "https://localhost:8080/"
        },
        "id": "cdzNmmnQtzd9",
        "outputId": "9326e721-a8a3-42d5-eae6-d6c7e876fe26"
      },
      "execution_count": null,
      "outputs": [
        {
          "output_type": "stream",
          "name": "stdout",
          "text": [
            "Masukkan bilangan bulat n: 4\n",
            "Output: 1, 2, 6, 24\n"
          ]
        }
      ]
    },
    {
      "cell_type": "markdown",
      "source": [
        "Buatlah program untuk memecahkan masalah \"minimum coin change\". Diberikan jumlah uang dan daftar nilai koin yang tersedia (misalnya, 1, 5, 10, 25), tentukan kombinasi minimum koin yang diperlukan untuk mencapai jumlah uang tersebut. Namun, program Anda harus bisa menangani koin-koin yang nilai dan jumlahnya ditentukan pengguna."
      ],
      "metadata": {
        "id": "wUZmfrtdt88l"
      }
    },
    {
      "cell_type": "code",
      "source": [
        "def min_coins(amount, coins):\n",
        "\n",
        "    dp = [float('inf')] * (amount + 1)\n",
        "    dp[0] = 0\n",
        "\n",
        "    # Mengisi array dp\n",
        "    for coin in coins:\n",
        "        for x in range(coin, amount + 1):\n",
        "            dp[x] = min(dp[x], dp[x - coin] + 1)\n",
        "\n",
        "\n",
        "    if dp[amount] == float('inf'):\n",
        "        return -1\n",
        "    else:\n",
        "        return dp[amount]\n",
        "\n",
        "# Input dari pengguna\n",
        "try:\n",
        "    amount = int(input(\"Masukkan jumlah uang: \"))\n",
        "    coins = list(map(int, input(\"Masukkan nilai koin yang tersedia (pisahkan dengan spasi): \").split()))\n",
        "\n",
        "\n",
        "    result = min_coins(amount, coins)\n",
        "    if result == -1:\n",
        "        print(\"Tidak ada kombinasi koin yang dapat mencapai jumlah tersebut.\")\n",
        "    else:\n",
        "        print(f\"Jumlah koin minimum yang diperlukan: {result}\")\n",
        "except ValueError:\n",
        "    print(\"Silakan masukkan nilai yang valid.\")\n"
      ],
      "metadata": {
        "colab": {
          "base_uri": "https://localhost:8080/"
        },
        "id": "o1L1Xea_t_z0",
        "outputId": "c73a3f6c-7b06-4ae1-8aef-e2cd53bf5410"
      },
      "execution_count": null,
      "outputs": [
        {
          "output_type": "stream",
          "name": "stdout",
          "text": [
            "Masukkan jumlah uang: 100\n",
            "Masukkan nilai koin yang tersedia (pisahkan dengan spasi): 10\n",
            "Jumlah koin minimum yang diperlukan: 10\n"
          ]
        }
      ]
    },
    {
      "cell_type": "markdown",
      "source": [
        "Buat sebuah program yang menerima string dari pengguna dan mengonversi string tersebut menjadi sebuah list berisi kata-kata terbalik. Misalnya:\n",
        "```\n",
        "Input: \"Saya suka Python\"\n",
        "Output: [\"ayaS\", \"akus\", \"nohtyP\"]\n"
      ],
      "metadata": {
        "id": "H-G9BlRCzgwn"
      }
    },
    {
      "cell_type": "code",
      "source": [
        "def balik(input_string):\n",
        "\n",
        "    words = input_string.split()\n",
        "\n",
        "    balik = [word[::-1] for word in words]\n",
        "\n",
        "    return balik\n",
        "\n",
        "user_input = input(\"Masukkan string: \")\n",
        "result = balik(user_input)\n",
        "\n",
        "print(f\"Output: {result}\")\n"
      ],
      "metadata": {
        "colab": {
          "base_uri": "https://localhost:8080/"
        },
        "id": "R_Wb5irbzkgg",
        "outputId": "0b09011e-10c0-4bd2-a0af-5cad334cd424"
      },
      "execution_count": null,
      "outputs": [
        {
          "output_type": "stream",
          "name": "stdout",
          "text": [
            "Masukkan string: Saya suka Python\n",
            "Output: ['ayaS', 'akus', 'nohtyP']\n"
          ]
        }
      ]
    },
    {
      "cell_type": "markdown",
      "source": [
        " Konsep Class dan Object-Oriented Programming\n",
        "**Soal**: Buat class bernama `Buku` yang memiliki atribut `judul`, `penulis`, dan `tahun_terbit`. Buat method dalam class untuk menampilkan informasi buku, serta method untuk menghitung usia buku berdasarkan tahun saat ini. Buatlah 3 objek dari class `Buku` dan tampilkan informasi serta usia masing-masing buku.\n"
      ],
      "metadata": {
        "id": "OOpiP-c30A93"
      }
    },
    {
      "cell_type": "code",
      "source": [
        "class Buku:\n",
        "    def __init__(self, judul, penulis, tahun_terbit):\n",
        "        \"\"\"Inisialisasi atribut buku.\"\"\"\n",
        "        self.judul = judul\n",
        "        self.penulis = penulis\n",
        "        self.tahun_terbit = tahun_terbit\n",
        "\n",
        "    def tampilkan_info(self):\n",
        "        \"\"\"Menampilkan informasi buku.\"\"\"\n",
        "        print(f\"Judul: {self.judul}\")\n",
        "        print(f\"Penulis: {self.penulis}\")\n",
        "        print(f\"Tahun Terbit: {self.tahun_terbit}\")\n",
        "\n",
        "    def hitung_usia_buku(self):\n",
        "        \"\"\"Menghitung usia buku berdasarkan tahun saat ini.\"\"\"\n",
        "        from datetime import datetime\n",
        "        tahun_sekarang = datetime.now().year\n",
        "        return tahun_sekarang - self.tahun_terbit\n",
        "\n",
        "buku1 = Buku(\"Belajar Python\", \"Andi\", 2020)\n",
        "buku2 = Buku(\"Dasar-Dasar Pemrograman\", \"Budi\", 2018)\n",
        "buku3 = Buku(\"Data Science untuk Pemula\", \"Cindy\", 2022)\n",
        "\n",
        "for buku in [buku1, buku2, buku3]:\n",
        "    buku.tampilkan_info()\n",
        "    print(f\"Usia Buku: {buku.hitung_usia_buku()} tahun\\n\")\n"
      ],
      "metadata": {
        "colab": {
          "base_uri": "https://localhost:8080/"
        },
        "id": "6ozTKjhi99VU",
        "outputId": "dcf96221-a6c2-4868-fe67-ac5d63ce2a20"
      },
      "execution_count": null,
      "outputs": [
        {
          "output_type": "stream",
          "name": "stdout",
          "text": [
            "Judul: Belajar Python\n",
            "Penulis: Andi\n",
            "Tahun Terbit: 2020\n",
            "Usia Buku: 4 tahun\n",
            "\n",
            "Judul: Dasar-Dasar Pemrograman\n",
            "Penulis: Budi\n",
            "Tahun Terbit: 2018\n",
            "Usia Buku: 6 tahun\n",
            "\n",
            "Judul: Data Science untuk Pemula\n",
            "Penulis: Cindy\n",
            "Tahun Terbit: 2022\n",
            "Usia Buku: 2 tahun\n",
            "\n"
          ]
        }
      ]
    },
    {
      "cell_type": "markdown",
      "source": [
        "Buatlah program yang mengimplementasikan algoritma pencarian biner, namun dengan modifikasi: algoritma harus bisa mencari nilai di list yang hanya berisi angka genap, dan jika nilai yang dicari adalah angka ganjil, program harus menampilkan pesan bahwa nilai tersebut tidak bisa ditemukan."
      ],
      "metadata": {
        "id": "fF4y-faV-Z4q"
      }
    },
    {
      "cell_type": "code",
      "source": [
        "def binary_search(arr, target):\n",
        "    \"\"\"Melakukan pencarian biner untuk menemukan target dalam arr.\"\"\"\n",
        "    low = 0\n",
        "    high = len(arr) - 1\n",
        "\n",
        "    while low <= high:\n",
        "        mid = (low + high) // 2\n",
        "        if arr[mid] == target:\n",
        "            return mid\n",
        "        elif arr[mid] < target:\n",
        "            low = mid + 1\n",
        "        else:\n",
        "            high = mid - 1\n",
        "\n",
        "    return -1\n",
        "\n",
        "def main():\n",
        "    even_numbers = [2, 4, 6, 8, 10, 12, 14, 16, 18, 20]\n",
        "\n",
        "    try:\n",
        "        target = int(input(\"Masukkan angka yang ingin dicari: \"))\n",
        "\n",
        "        if target % 2 != 0:\n",
        "            print(\"Nilai yang dicari adalah angka ganjil, pencarian tidak dapat dilakukan.\")\n",
        "        else:\n",
        "            index = binary_search(even_numbers, target)\n",
        "\n",
        "            if index != -1:\n",
        "                print(f\"Angka {target} ditemukan di indeks {index}.\")\n",
        "            else:\n",
        "                print(f\"Angka {target} tidak ditemukan dalam list.\")\n",
        "\n",
        "    except ValueError:\n",
        "        print(\"Silakan masukkan angka yang valid.\")\n",
        "\n",
        "main()"
      ],
      "metadata": {
        "colab": {
          "base_uri": "https://localhost:8080/"
        },
        "id": "dmS8nyNB-cS0",
        "outputId": "b4894528-11b3-4e38-ab1c-c2bbfa4f3f98"
      },
      "execution_count": null,
      "outputs": [
        {
          "output_type": "stream",
          "name": "stdout",
          "text": [
            "Masukkan angka yang ingin dicari: 11\n",
            "Nilai yang dicari adalah angka ganjil, pencarian tidak dapat dilakukan.\n"
          ]
        }
      ]
    }
  ]
}