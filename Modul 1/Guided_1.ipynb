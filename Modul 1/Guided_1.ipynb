{
  "nbformat": 4,
  "nbformat_minor": 0,
  "metadata": {
    "colab": {
      "provenance": []
    },
    "kernelspec": {
      "name": "python3",
      "display_name": "Python 3"
    },
    "language_info": {
      "name": "python"
    }
  },
  "cells": [
    {
      "cell_type": "code",
      "execution_count": 1,
      "metadata": {
        "id": "SV4lGKZO_3WZ"
      },
      "outputs": [],
      "source": [
        "x = 10\n",
        "y = 3.14\n",
        "z = \"Data Sains\"\n",
        "\n",
        "user_age = 20\n",
        "phi_value = 3.14159\n",
        "course_name = \"Python for Data Science\""
      ]
    },
    {
      "cell_type": "code",
      "source": [
        "#Integers\n",
        "age = 25\n",
        "# Floats\n",
        "height = 1.75\n",
        "# Strings\n",
        "name = \"Bara\"\n",
        "# Booleans"
      ],
      "metadata": {
        "id": "5imhn-g5AUmD"
      },
      "execution_count": 2,
      "outputs": []
    },
    {
      "cell_type": "code",
      "source": [
        "is_student = True\n",
        "print(type(age))\n",
        "print(type(height))\n",
        "print(type(name))\n",
        "print(type(is_student))"
      ],
      "metadata": {
        "colab": {
          "base_uri": "https://localhost:8080/"
        },
        "id": "NOkmwtjsAbCi",
        "outputId": "d8f42672-adc2-455b-e8d9-bcaec39fc12d"
      },
      "execution_count": 3,
      "outputs": [
        {
          "output_type": "stream",
          "name": "stdout",
          "text": [
            "<class 'int'>\n",
            "<class 'float'>\n",
            "<class 'str'>\n",
            "<class 'bool'>\n"
          ]
        }
      ]
    },
    {
      "cell_type": "code",
      "source": [
        "a = 10\n",
        "b = 3\n",
        "# Penjumlahan\n",
        "print(a + b)\n",
        "# Pembagian\n",
        "print(a / b)\n",
        "# Pembagian bulat\n",
        "print(a // b)\n",
        "# Eksponensial\n",
        "print(a ** b)"
      ],
      "metadata": {
        "colab": {
          "base_uri": "https://localhost:8080/"
        },
        "id": "jb8l1sUWAc0Y",
        "outputId": "9dcd5928-07ed-48a8-fe4a-5613f245b9be"
      },
      "execution_count": 4,
      "outputs": [
        {
          "output_type": "stream",
          "name": "stdout",
          "text": [
            "13\n",
            "3.3333333333333335\n",
            "3\n",
            "1000\n"
          ]
        }
      ]
    },
    {
      "cell_type": "code",
      "source": [
        "print(a > b)  # Output: True\n",
        "print(a == b) # Output: False"
      ],
      "metadata": {
        "colab": {
          "base_uri": "https://localhost:8080/"
        },
        "id": "Tf9oKAiEAeo-",
        "outputId": "b1d79766-64ab-4c13-d0d7-a34258b8dd00"
      },
      "execution_count": 5,
      "outputs": [
        {
          "output_type": "stream",
          "name": "stdout",
          "text": [
            "True\n",
            "False\n"
          ]
        }
      ]
    },
    {
      "cell_type": "code",
      "source": [
        "x = True\n",
        "y = False\n",
        "print(x and y)\n",
        "print(x or y)"
      ],
      "metadata": {
        "colab": {
          "base_uri": "https://localhost:8080/"
        },
        "id": "T6h_t_u7AgAj",
        "outputId": "930137da-1bdd-4c20-edc9-0146c98e69e5"
      },
      "execution_count": 7,
      "outputs": [
        {
          "output_type": "stream",
          "name": "stdout",
          "text": [
            "False\n",
            "True\n"
          ]
        }
      ]
    },
    {
      "cell_type": "code",
      "source": [
        "# Definisi fungsi sederhana\n",
        "def greet(name):\n",
        "return f\"Hello, {name}!\"\n",
        "# Memanggil fungsi\n",
        "print(greet(\"Bara\"))"
      ],
      "metadata": {
        "colab": {
          "base_uri": "https://localhost:8080/",
          "height": 106
        },
        "id": "sPpOoEbHAie6",
        "outputId": "c1cb04c6-06d5-4d17-fc97-49690eca9c42"
      },
      "execution_count": 8,
      "outputs": [
        {
          "output_type": "error",
          "ename": "IndentationError",
          "evalue": "expected an indented block after function definition on line 2 (<ipython-input-8-ab5714ae42d5>, line 3)",
          "traceback": [
            "\u001b[0;36m  File \u001b[0;32m\"<ipython-input-8-ab5714ae42d5>\"\u001b[0;36m, line \u001b[0;32m3\u001b[0m\n\u001b[0;31m    return f\"Hello, {name}!\"\u001b[0m\n\u001b[0m    ^\u001b[0m\n\u001b[0;31mIndentationError\u001b[0m\u001b[0;31m:\u001b[0m expected an indented block after function definition on line 2\n"
          ]
        }
      ]
    },
    {
      "cell_type": "code",
      "source": [
        "fruits = [\"apple\", \"banana\", \"cherry\"]\n",
        "for fruit in fruits:\n",
        "print(fruit)"
      ],
      "metadata": {
        "colab": {
          "base_uri": "https://localhost:8080/",
          "height": 106
        },
        "id": "JFkZ-sL2Ali7",
        "outputId": "1ed53862-a4d2-4c2b-e2c6-ca89d5a5fe61"
      },
      "execution_count": 25,
      "outputs": [
        {
          "output_type": "error",
          "ename": "IndentationError",
          "evalue": "expected an indented block after function definition on line 1 (<ipython-input-25-1617f0ddeb01>, line 2)",
          "traceback": [
            "\u001b[0;36m  File \u001b[0;32m\"<ipython-input-25-1617f0ddeb01>\"\u001b[0;36m, line \u001b[0;32m2\u001b[0m\n\u001b[0;31m    for fruit in Fruit:\u001b[0m\n\u001b[0m    ^\u001b[0m\n\u001b[0;31mIndentationError\u001b[0m\u001b[0;31m:\u001b[0m expected an indented block after function definition on line 1\n"
          ]
        }
      ]
    },
    {
      "cell_type": "code",
      "source": [
        "counter = 0\n",
        "while counter < 3:\n",
        "print(counter)"
      ],
      "metadata": {
        "colab": {
          "base_uri": "https://localhost:8080/",
          "height": 106
        },
        "id": "0RppOdkeAw3E",
        "outputId": "c951af43-be53-4801-bff2-6879fa77a970"
      },
      "execution_count": 26,
      "outputs": [
        {
          "output_type": "error",
          "ename": "IndentationError",
          "evalue": "expected an indented block after 'while' statement on line 2 (<ipython-input-26-d3051e479d07>, line 3)",
          "traceback": [
            "\u001b[0;36m  File \u001b[0;32m\"<ipython-input-26-d3051e479d07>\"\u001b[0;36m, line \u001b[0;32m3\u001b[0m\n\u001b[0;31m    print(counter)\u001b[0m\n\u001b[0m    ^\u001b[0m\n\u001b[0;31mIndentationError\u001b[0m\u001b[0;31m:\u001b[0m expected an indented block after 'while' statement on line 2\n"
          ]
        }
      ]
    },
    {
      "cell_type": "code",
      "source": [
        "numbers = [1, 2, 3, 4, 5]\n",
        "doubled = [x * 2 for x in numbers]\n",
        "print(doubled)"
      ],
      "metadata": {
        "id": "Op8t_Hh5CMTF"
      },
      "execution_count": null,
      "outputs": []
    },
    {
      "cell_type": "code",
      "source": [
        "score = 85\n",
        "if score >= 90:\n",
        "print(\"A\")\n",
        "elif score >= 80:\n",
        "print(\"B\")\n",
        "else:\n",
        "print(\"C\")"
      ],
      "metadata": {
        "id": "Zn9zZazmCO7g"
      },
      "execution_count": null,
      "outputs": []
    },
    {
      "cell_type": "code",
      "source": [
        "score = 85\n",
        "attendance = 90\n",
        "if score >= 80:\n",
        "if attendance >= 85:\n",
        "print(\"Lulus dengan nilai baik\")\n",
        "else:\n",
        "print(\"Kehadiran kurang\")\n",
        "else:\n",
        "print(\"Tidak lulus\")"
      ],
      "metadata": {
        "id": "3gdQ6d0MCSMz"
      },
      "execution_count": null,
      "outputs": []
    }
  ]
}